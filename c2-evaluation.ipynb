{
 "cells": [
  {
   "cell_type": "code",
   "execution_count": null,
   "id": "565db4e4-7afb-4583-8343-37da4ef82b62",
   "metadata": {},
   "outputs": [],
   "source": [
    "# Exercise 2 - Create a markdown cell with the title of the notebook. (1 pt)"
   ]
  },
  {
   "cell_type": "markdown",
   "id": "a62b5fef-b438-4f8c-9cb2-a208f2b40638",
   "metadata": {},
   "source": [
    "# Data Science Tools and Ecosystem"
   ]
  },
  {
   "cell_type": "code",
   "execution_count": null,
   "id": "98c08c33-fede-4b70-aa12-c187a84459a5",
   "metadata": {},
   "outputs": [],
   "source": [
    "# Exercise 3 - Create a markdown cell for an introduction. (1 pt)"
   ]
  },
  {
   "cell_type": "markdown",
   "id": "9d7c810d-4b29-4b55-b6a8-2f9f62800286",
   "metadata": {},
   "source": [
    "## Introduction\n",
    "\n",
    "In this notebook, Data Science Tools and Ecosystem are summarized."
   ]
  },
  {
   "cell_type": "code",
   "execution_count": null,
   "id": "7c04f92e-1086-45c3-afd0-9973820699a9",
   "metadata": {},
   "outputs": [],
   "source": [
    "#Exercise 4 - Create a markdown cell to list data science languages. (3 pts)"
   ]
  },
  {
   "cell_type": "markdown",
   "id": "4046d38c-4d6f-44fb-b085-cfe8d98b9439",
   "metadata": {},
   "source": [
    "Some of the popular languages that Data Scientists use are:\n",
    "\n",
    " - python\n",
    " - javascript\n",
    " - R\n",
    " - scala"
   ]
  },
  {
   "cell_type": "code",
   "execution_count": null,
   "id": "446ddf3d-f2fb-4d48-870c-aee92b21fc89",
   "metadata": {},
   "outputs": [],
   "source": [
    "#Exercise 5 - Create a markdown cell to list data science libraries"
   ]
  },
  {
   "cell_type": "markdown",
   "id": "999e6feb-a303-4959-b805-1a88c6da95d6",
   "metadata": {},
   "source": [
    "Some of the commonly used libraries used by Data Scientists include:\n",
    "\n",
    "1. Numpy\n",
    "2. Pandas\n",
    "3. Scikit-learn\n",
    "4. plotly\n",
    "5. matplotlib\n",
    "6. tensorflow"
   ]
  },
  {
   "cell_type": "markdown",
   "id": "8fbdc75f-ed6e-488a-8b4a-2bf8c93d2f69",
   "metadata": {},
   "source": [
    "# Exercise 6 - Create a markdown cell with a table of Data Science tools"
   ]
  },
  {
   "cell_type": "markdown",
   "id": "bab386a8-3db0-4824-876e-395ed11fb2d3",
   "metadata": {},
   "source": [
    "| Data Science Tools |\n",
    "|--------------------|\n",
    "| jupyter notebooks |\n",
    "| postgresql |\n",
    "| anaconda |\n",
    "| R studio |\n",
    "\n"
   ]
  },
  {
   "cell_type": "markdown",
   "id": "e5ebc820-3c3f-4ebe-be37-70eac6124853",
   "metadata": {},
   "source": [
    "# Exercise 7 - Create a markdown cell introducing arithmetic expression examples"
   ]
  },
  {
   "cell_type": "markdown",
   "id": "59639382-816c-46f7-8ba6-1392f346e357",
   "metadata": {},
   "source": [
    "### Below are a few examples of evaluating arithmetic expressions in Python.\n",
    "\n",
    "1 + 3 = sum"
   ]
  },
  {
   "cell_type": "markdown",
   "id": "16054943-c55c-440f-b425-05be1887024f",
   "metadata": {},
   "source": [
    "# Exercise 8 - Create a code cell to multiply and add numbers"
   ]
  },
  {
   "cell_type": "code",
   "execution_count": 2,
   "id": "60bab725-a5fa-409d-842f-d67717ae5024",
   "metadata": {},
   "outputs": [
    {
     "data": {
      "text/plain": [
       "17"
      ]
     },
     "execution_count": 2,
     "metadata": {},
     "output_type": "execute_result"
    }
   ],
   "source": [
    "# This a simple arithmetic expression to mutiply then add integers\n",
    "(3*4)+5"
   ]
  },
  {
   "cell_type": "code",
   "execution_count": null,
   "id": "dd3f8a2c-5176-42fb-934d-1d158dbf4db1",
   "metadata": {},
   "outputs": [],
   "source": [
    "# Exercise 9 - Create a code cell to convert minutes to hours"
   ]
  },
  {
   "cell_type": "code",
   "execution_count": 3,
   "id": "5c3b5a31-5d5e-485c-8755-ca272e2d1682",
   "metadata": {},
   "outputs": [
    {
     "data": {
      "text/plain": [
       "3.3333333333333335"
      ]
     },
     "execution_count": 3,
     "metadata": {},
     "output_type": "execute_result"
    }
   ],
   "source": [
    "# This will convert 200 minutes to hours by diving by 60\n",
    "200 / 60"
   ]
  },
  {
   "cell_type": "code",
   "execution_count": null,
   "id": "b4218a28-73c3-4815-867e-cb503a8d3484",
   "metadata": {},
   "outputs": [],
   "source": [
    "# Exercise 10 - Insert a markdown cell to list Objectives"
   ]
  },
  {
   "cell_type": "markdown",
   "id": "193a8cd6-ec48-449c-9764-a05f0cf8c8a2",
   "metadata": {},
   "source": [
    "**Objectives:**\n",
    "\n",
    "- Python\n",
    "- Scala\n",
    "- Java\n",
    "- R\n",
    "- C++"
   ]
  },
  {
   "cell_type": "code",
   "execution_count": null,
   "id": "c150aa11-6d05-4325-9a98-7de28e4c5427",
   "metadata": {},
   "outputs": [],
   "source": [
    "# Exercise 11 - Create a markdown cell to indicate the Author's name"
   ]
  },
  {
   "cell_type": "markdown",
   "id": "300f74c6-0859-43b6-b66f-4661b7c47b0e",
   "metadata": {},
   "source": [
    "## Author \n",
    "Rodrigo Garcia"
   ]
  },
  {
   "cell_type": "code",
   "execution_count": null,
   "id": "66fa3c69-098f-4a57-b076-a510f6150c1f",
   "metadata": {},
   "outputs": [],
   "source": []
  },
  {
   "cell_type": "code",
   "execution_count": null,
   "id": "ad0d5f93-87c2-45cb-8a54-d34f67c870c3",
   "metadata": {},
   "outputs": [],
   "source": []
  },
  {
   "cell_type": "code",
   "execution_count": null,
   "id": "11df1051-8dab-4fca-901b-6f6e31da4c0b",
   "metadata": {},
   "outputs": [],
   "source": []
  },
  {
   "cell_type": "code",
   "execution_count": null,
   "id": "609b2e8e-26f1-466b-b27b-cea008ce64ed",
   "metadata": {},
   "outputs": [],
   "source": []
  },
  {
   "cell_type": "code",
   "execution_count": null,
   "id": "0bc5c564-b757-4e6d-bf41-d311127809f0",
   "metadata": {},
   "outputs": [],
   "source": []
  },
  {
   "cell_type": "code",
   "execution_count": null,
   "id": "b3f30414-8f16-4727-a630-38b1a7db329c",
   "metadata": {},
   "outputs": [],
   "source": []
  },
  {
   "cell_type": "code",
   "execution_count": null,
   "id": "1d986b42-9c22-48ae-9e7b-bd5ca4ce7cb8",
   "metadata": {},
   "outputs": [],
   "source": []
  }
 ],
 "metadata": {
  "kernelspec": {
   "display_name": "Python 3 (ipykernel)",
   "language": "python",
   "name": "python3"
  },
  "language_info": {
   "codemirror_mode": {
    "name": "ipython",
    "version": 3
   },
   "file_extension": ".py",
   "mimetype": "text/x-python",
   "name": "python",
   "nbconvert_exporter": "python",
   "pygments_lexer": "ipython3",
   "version": "3.12.4"
  }
 },
 "nbformat": 4,
 "nbformat_minor": 5
}
